{
 "cells": [
  {
   "cell_type": "code",
   "execution_count": 88,
   "id": "6379cb5f",
   "metadata": {},
   "outputs": [],
   "source": [
    "import pandas as pd\n",
    "from datetime import date\n",
    "import warnings"
   ]
  },
  {
   "cell_type": "code",
   "execution_count": 89,
   "id": "2c115387",
   "metadata": {},
   "outputs": [],
   "source": [
    "pd.set_option(\"max.rows\", 1000)"
   ]
  },
  {
   "cell_type": "code",
   "execution_count": 90,
   "id": "0bc3b993",
   "metadata": {},
   "outputs": [],
   "source": [
    "from equity_research.equity_research import EquityResearch"
   ]
  },
  {
   "cell_type": "code",
   "execution_count": 91,
   "id": "d0af87b1",
   "metadata": {},
   "outputs": [],
   "source": [
    "eqresearch = EquityResearch()"
   ]
  },
  {
   "cell_type": "code",
   "execution_count": 124,
   "id": "e247f20d",
   "metadata": {},
   "outputs": [],
   "source": [
    "def get_net_revenue(ticker, date_arg):\n",
    "    cnpj = eqresearch.get_cnpj_from_ticker(ticker)\n",
    "    \n",
    "    filename=f\"data/trimestral/{date_arg.year}/itr_cia_aberta_DRE_con_{date_arg.year}.csv\"\n",
    "    df = pd.read_csv(filename, encoding='iso-8859-1', sep=';')\n",
    "    \n",
    "    filename=f\"data/trimestral/{date_arg.year}/itr_cia_aberta_DRE_ind_{date_arg.year}.csv\"\n",
    "    df_ind = pd.read_csv(filename, encoding='iso-8859-1', sep=';')\n",
    "    \n",
    "    df = df.append(df_ind)\n",
    "    \n",
    "    if cnpj in df['CNPJ_CIA'].tolist():\n",
    "\n",
    "        df = df[df['CNPJ_CIA'] == cnpj]\n",
    "        df = df[df['DT_REFER'] == str(date_arg)]\n",
    "\n",
    "        date_max_init_exer = df['DT_INI_EXERC'].max()\n",
    "        df = df[df['DT_INI_EXERC'] == date_max_init_exer]\n",
    "        \n",
    "        df.to_excel(\"data/test/test_\"+ticker+\".xlsx\")\n",
    "        \n",
    "        if ticker == 'BRAP4':\n",
    "            df = df[df['DS_CONTA'] == 'Resultado de Equivalência Patrimonial']\n",
    "        \n",
    "        else:\n",
    "            if 'Receita de Venda de Bens e/ou Serviços' in df['DS_CONTA'].tolist():\n",
    "                df = df[df['DS_CONTA'] == 'Receita de Venda de Bens e/ou Serviços']\n",
    "\n",
    "            elif 'Resultado Bruto Intermediação Financeira' in df['DS_CONTA'].tolist():\n",
    "                df = df[df['DS_CONTA'] == 'Resultado Bruto Intermediação Financeira']\n",
    "\n",
    "            else:\n",
    "                raise Exception(f\"[get_net_revenue] Net revenue for {ticker} in {date_arg} not found.\")\n",
    "\n",
    "        df = df[df['VL_CONTA'] != 0.0]\n",
    "\n",
    "        if df.shape[0] > 0:\n",
    "            net_revenue = df['VL_CONTA'].iloc[0]\n",
    "        else:\n",
    "            net_revenue = 0\n",
    "            warnings.warn(f\"[get_net_revenue] net revenue 0.0 for {ticker} in {date_arg}.\")\n",
    "        \n",
    "    else:\n",
    "        raise Exception(f\"[get_net_revenue] cnpj for {ticker} in {date_arg} not found.\")\n",
    "        \n",
    "    return net_revenue"
   ]
  },
  {
   "cell_type": "code",
   "execution_count": 128,
   "id": "898f8425",
   "metadata": {
    "scrolled": false
   },
   "outputs": [
    {
     "ename": "Exception",
     "evalue": "[get_net_revenue] Net revenue for BBSE3 in 2020-03-31 not found.",
     "output_type": "error",
     "traceback": [
      "\u001b[1;31m---------------------------------------------------------------------------\u001b[0m",
      "\u001b[1;31mException\u001b[0m                                 Traceback (most recent call last)",
      "\u001b[1;32m<ipython-input-128-b1d7c8d1994f>\u001b[0m in \u001b[0;36m<module>\u001b[1;34m\u001b[0m\n\u001b[1;32m----> 1\u001b[1;33m \u001b[0mget_net_revenue\u001b[0m\u001b[1;33m(\u001b[0m\u001b[1;34m\"BBSE3\"\u001b[0m\u001b[1;33m,\u001b[0m \u001b[0mdate\u001b[0m\u001b[1;33m(\u001b[0m\u001b[1;36m2020\u001b[0m\u001b[1;33m,\u001b[0m\u001b[1;36m3\u001b[0m\u001b[1;33m,\u001b[0m\u001b[1;36m31\u001b[0m\u001b[1;33m)\u001b[0m\u001b[1;33m)\u001b[0m\u001b[1;33m\u001b[0m\u001b[1;33m\u001b[0m\u001b[0m\n\u001b[0m",
      "\u001b[1;32m<ipython-input-124-29491e71c331>\u001b[0m in \u001b[0;36mget_net_revenue\u001b[1;34m(ticker, date_arg)\u001b[0m\n\u001b[0;32m     31\u001b[0m \u001b[1;33m\u001b[0m\u001b[0m\n\u001b[0;32m     32\u001b[0m             \u001b[1;32melse\u001b[0m\u001b[1;33m:\u001b[0m\u001b[1;33m\u001b[0m\u001b[1;33m\u001b[0m\u001b[0m\n\u001b[1;32m---> 33\u001b[1;33m                 \u001b[1;32mraise\u001b[0m \u001b[0mException\u001b[0m\u001b[1;33m(\u001b[0m\u001b[1;34mf\"[get_net_revenue] Net revenue for {ticker} in {date_arg} not found.\"\u001b[0m\u001b[1;33m)\u001b[0m\u001b[1;33m\u001b[0m\u001b[1;33m\u001b[0m\u001b[0m\n\u001b[0m\u001b[0;32m     34\u001b[0m \u001b[1;33m\u001b[0m\u001b[0m\n\u001b[0;32m     35\u001b[0m         \u001b[0mdf\u001b[0m \u001b[1;33m=\u001b[0m \u001b[0mdf\u001b[0m\u001b[1;33m[\u001b[0m\u001b[0mdf\u001b[0m\u001b[1;33m[\u001b[0m\u001b[1;34m'VL_CONTA'\u001b[0m\u001b[1;33m]\u001b[0m \u001b[1;33m!=\u001b[0m \u001b[1;36m0.0\u001b[0m\u001b[1;33m]\u001b[0m\u001b[1;33m\u001b[0m\u001b[1;33m\u001b[0m\u001b[0m\n",
      "\u001b[1;31mException\u001b[0m: [get_net_revenue] Net revenue for BBSE3 in 2020-03-31 not found."
     ]
    }
   ],
   "source": [
    "get_net_revenue(\"BBSE3\", date(2020,3,31))"
   ]
  },
  {
   "cell_type": "code",
   "execution_count": 94,
   "id": "fa2a8daa",
   "metadata": {},
   "outputs": [],
   "source": [
    "all_tickers = eqresearch.get_all_tickers()"
   ]
  },
  {
   "cell_type": "code",
   "execution_count": 95,
   "id": "ecad2433",
   "metadata": {},
   "outputs": [],
   "source": [
    "test = pd.DataFrame()"
   ]
  },
  {
   "cell_type": "code",
   "execution_count": 96,
   "id": "bd19bbc8",
   "metadata": {},
   "outputs": [
    {
     "name": "stderr",
     "output_type": "stream",
     "text": [
      "<ipython-input-92-9cdef5ad0712>:39: UserWarning: [get_net_revenue] net revenue 0.0 for BBSE3 in 2020-09-30 not found.\n",
      "  warnings.warn(f\"[get_net_revenue] net revenue 0.0 for {ticker} in {date_arg} not found.\")\n",
      "<ipython-input-92-9cdef5ad0712>:39: UserWarning: [get_net_revenue] net revenue 0.0 for BRAP4 in 2020-09-30 not found.\n",
      "  warnings.warn(f\"[get_net_revenue] net revenue 0.0 for {ticker} in {date_arg} not found.\")\n"
     ]
    }
   ],
   "source": [
    "net_revenues = []\n",
    "tickers = []\n",
    "for ticker in all_tickers:\n",
    "    try:\n",
    "        net_revenues.append(get_net_revenue(ticker, date(2020,9,30)))\n",
    "        tickers.append(ticker)\n",
    "    except:\n",
    "        print(\"problema no \"+ticker)"
   ]
  },
  {
   "cell_type": "code",
   "execution_count": 97,
   "id": "6a2648bc",
   "metadata": {},
   "outputs": [
    {
     "data": {
      "text/plain": [
       "['ABEV3',\n",
       " 'ASAI3',\n",
       " 'AZUL4',\n",
       " 'BTOW3',\n",
       " 'B3SA3',\n",
       " 'BIDI11',\n",
       " 'BBSE3',\n",
       " 'BRML3',\n",
       " 'BBDC3',\n",
       " 'BBDC4',\n",
       " 'BRAP4',\n",
       " 'BBAS3',\n",
       " 'BRKM5',\n",
       " 'BRFS3',\n",
       " 'BPAC11',\n",
       " 'CRFB3',\n",
       " 'CCRO3',\n",
       " 'CMIG4',\n",
       " 'HGTX3',\n",
       " 'CIEL3',\n",
       " 'COGN3',\n",
       " 'CPLE6',\n",
       " 'CSAN3',\n",
       " 'CPFE3',\n",
       " 'CVCB3',\n",
       " 'CYRE3',\n",
       " 'ECOR3',\n",
       " 'ELET3',\n",
       " 'ELET6',\n",
       " 'EMBR3',\n",
       " 'ENBR3',\n",
       " 'ENGI11',\n",
       " 'ENEV3',\n",
       " 'EGIE3',\n",
       " 'EQTL3',\n",
       " 'EZTC3',\n",
       " 'FLRY3',\n",
       " 'GGBR4',\n",
       " 'GOAU4',\n",
       " 'GOLL4',\n",
       " 'NTCO3',\n",
       " 'HAPV3',\n",
       " 'HYPE3',\n",
       " 'IGTA3',\n",
       " 'GNDI3',\n",
       " 'IRBR3',\n",
       " 'ITSA4',\n",
       " 'ITUB4',\n",
       " 'JBSS3',\n",
       " 'JHSF3',\n",
       " 'KLBN11',\n",
       " 'RENT3',\n",
       " 'LCAM3',\n",
       " 'LWSA3',\n",
       " 'LAME4',\n",
       " 'LREN3',\n",
       " 'MGLU3',\n",
       " 'MRFG3',\n",
       " 'BEEF3',\n",
       " 'MRVE3',\n",
       " 'MULT3',\n",
       " 'PCAR3',\n",
       " 'PETR3',\n",
       " 'PETR4',\n",
       " 'BRDT3',\n",
       " 'PRIO3',\n",
       " 'QUAL3',\n",
       " 'RADL3',\n",
       " 'RAIL3',\n",
       " 'SBSP3',\n",
       " 'SANB11',\n",
       " 'CSNA3',\n",
       " 'SULA11',\n",
       " 'SUZB3',\n",
       " 'TAEE11',\n",
       " 'VIVT3',\n",
       " 'TIMS3',\n",
       " 'TOTS3',\n",
       " 'UGPA3',\n",
       " 'USIM5',\n",
       " 'VALE3',\n",
       " 'VVAR3',\n",
       " 'WEGE3',\n",
       " 'YDUQ3']"
      ]
     },
     "execution_count": 97,
     "metadata": {},
     "output_type": "execute_result"
    }
   ],
   "source": [
    "tickers"
   ]
  },
  {
   "cell_type": "code",
   "execution_count": 98,
   "id": "937fcc5e",
   "metadata": {},
   "outputs": [
    {
     "data": {
      "text/plain": [
       "[15604498.0,\n",
       " 14572000.0,\n",
       " 805326.0,\n",
       " 2663959.0,\n",
       " 2535465.0,\n",
       " 226728.0,\n",
       " 0,\n",
       " 198352.0,\n",
       " 22985778.0,\n",
       " 22985778.0,\n",
       " 0,\n",
       " 26372421.0,\n",
       " 15992108.0,\n",
       " 9942591.0,\n",
       " 3353472.0,\n",
       " 18218000.0,\n",
       " 2381318.0,\n",
       " 4167458.0,\n",
       " 257780.0,\n",
       " 1181671.0,\n",
       " 1256140.0,\n",
       " 4329831.0,\n",
       " 3714923.0,\n",
       " 7781020.0,\n",
       " 62026.0,\n",
       " 1163503.0,\n",
       " 1008112.0,\n",
       " 7431216.0,\n",
       " 7431216.0,\n",
       " 4090474.0,\n",
       " 3453060.0,\n",
       " 4898036.0,\n",
       " 562028.0,\n",
       " 3208816.0,\n",
       " 4208029.0,\n",
       " 271609.0,\n",
       " 874583.0,\n",
       " 12222108.0,\n",
       " 12222108.0,\n",
       " 974920.0,\n",
       " 10419530.0,\n",
       " 2126380.0,\n",
       " 1088497.0,\n",
       " 179792.0,\n",
       " 2698611.0,\n",
       " 2373907.0,\n",
       " 1778000.0,\n",
       " 37651000.0,\n",
       " 70081098.0,\n",
       " 355849.0,\n",
       " 3108828.0,\n",
       " 3067549.0,\n",
       " 1787054.0,\n",
       " 126226.0,\n",
       " 5128612.0,\n",
       " 1790039.0,\n",
       " 8308326.0,\n",
       " 16833145.0,\n",
       " 5137107.0,\n",
       " 1779840.0,\n",
       " 210743.0,\n",
       " 21289000.0,\n",
       " 70730000.0,\n",
       " 70730000.0,\n",
       " 21137000.0,\n",
       " 488695.0,\n",
       " 524604.0,\n",
       " 5093453.0,\n",
       " 2052667.0,\n",
       " 4438480.0,\n",
       " 14732550.0,\n",
       " 8714583.0,\n",
       " 4830082.0,\n",
       " 7470835.0,\n",
       " 941221.0,\n",
       " 10791538.0,\n",
       " 4387369.0,\n",
       " 677766.0,\n",
       " 20762078.0,\n",
       " 4381212.0,\n",
       " 57905744.0,\n",
       " 7812000.0,\n",
       " 4801260.0,\n",
       " 976336.0]"
      ]
     },
     "execution_count": 98,
     "metadata": {},
     "output_type": "execute_result"
    }
   ],
   "source": [
    "net_revenues"
   ]
  },
  {
   "cell_type": "code",
   "execution_count": 100,
   "id": "119e205e",
   "metadata": {},
   "outputs": [
    {
     "data": {
      "text/plain": [
       "True"
      ]
     },
     "execution_count": 100,
     "metadata": {},
     "output_type": "execute_result"
    }
   ],
   "source": [
    "0 == 0.0"
   ]
  },
  {
   "cell_type": "code",
   "execution_count": null,
   "id": "2b52e602",
   "metadata": {},
   "outputs": [],
   "source": []
  },
  {
   "cell_type": "code",
   "execution_count": null,
   "id": "1d76301c",
   "metadata": {},
   "outputs": [],
   "source": []
  },
  {
   "cell_type": "code",
   "execution_count": null,
   "id": "75ff7573",
   "metadata": {},
   "outputs": [],
   "source": []
  }
 ],
 "metadata": {
  "kernelspec": {
   "display_name": "Python 3",
   "language": "python",
   "name": "python3"
  },
  "language_info": {
   "codemirror_mode": {
    "name": "ipython",
    "version": 3
   },
   "file_extension": ".py",
   "mimetype": "text/x-python",
   "name": "python",
   "nbconvert_exporter": "python",
   "pygments_lexer": "ipython3",
   "version": "3.8.8"
  }
 },
 "nbformat": 4,
 "nbformat_minor": 5
}
