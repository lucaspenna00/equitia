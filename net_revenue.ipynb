{
 "cells": [
  {
   "cell_type": "code",
   "execution_count": 1,
   "id": "0bc3b993",
   "metadata": {},
   "outputs": [],
   "source": [
    "from equity_research.equity_research import EquityResearch\n",
    "from datetime import date\n",
    "import pandas as pd\n",
    "from tqdm import tqdm"
   ]
  },
  {
   "cell_type": "code",
   "execution_count": 2,
   "id": "d0af87b1",
   "metadata": {},
   "outputs": [],
   "source": [
    "eqresearch = EquityResearch()"
   ]
  },
  {
   "cell_type": "code",
   "execution_count": 3,
   "id": "fa2a8daa",
   "metadata": {},
   "outputs": [],
   "source": [
    "all_tickers = eqresearch.get_all_tickers()"
   ]
  },
  {
   "cell_type": "code",
   "execution_count": 4,
   "id": "ecad2433",
   "metadata": {},
   "outputs": [],
   "source": [
    "test = pd.DataFrame()"
   ]
  },
  {
   "cell_type": "code",
   "execution_count": null,
   "id": "bd19bbc8",
   "metadata": {},
   "outputs": [
    {
     "name": "stderr",
     "output_type": "stream",
     "text": [
      " 14%|███████████▋                                                                      | 12/84 [00:19<02:00,  1.67s/it]"
     ]
    }
   ],
   "source": [
    "net_revenues = []\n",
    "tickers = []\n",
    "for ticker in tqdm(all_tickers):\n",
    "    try:\n",
    "        net_revenues.append(eqresearch.get_net_revenue(ticker, date(2020,9,30)))\n",
    "        tickers.append(ticker)\n",
    "    except:\n",
    "        print(\"problema no \"+ticker)"
   ]
  },
  {
   "cell_type": "code",
   "execution_count": null,
   "id": "9e52a623",
   "metadata": {},
   "outputs": [],
   "source": [
    "test['ticker'] = tickers\n",
    "test['net_revenues'] = net_revenues"
   ]
  },
  {
   "cell_type": "code",
   "execution_count": 52,
   "id": "3b3b3167",
   "metadata": {},
   "outputs": [],
   "source": [
    "test.to_excel(\"mineiro_receita_liquida_3T20.xlsx\")"
   ]
  },
  {
   "cell_type": "code",
   "execution_count": null,
   "id": "651b69a9",
   "metadata": {},
   "outputs": [],
   "source": []
  }
 ],
 "metadata": {
  "kernelspec": {
   "display_name": "Python 3",
   "language": "python",
   "name": "python3"
  },
  "language_info": {
   "codemirror_mode": {
    "name": "ipython",
    "version": 3
   },
   "file_extension": ".py",
   "mimetype": "text/x-python",
   "name": "python",
   "nbconvert_exporter": "python",
   "pygments_lexer": "ipython3",
   "version": "3.8.8"
  }
 },
 "nbformat": 4,
 "nbformat_minor": 5
}
