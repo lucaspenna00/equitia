{
 "cells": [
  {
   "cell_type": "code",
   "execution_count": 1,
   "id": "dd8e4ebd",
   "metadata": {},
   "outputs": [],
   "source": [
    "import os; os.chdir(\"..\")"
   ]
  },
  {
   "cell_type": "code",
   "execution_count": 21,
   "id": "e41eb4b9",
   "metadata": {},
   "outputs": [],
   "source": [
    "import pandas as pd"
   ]
  },
  {
   "cell_type": "code",
   "execution_count": 22,
   "id": "a50134e2",
   "metadata": {},
   "outputs": [],
   "source": [
    "from datetime import date"
   ]
  },
  {
   "cell_type": "code",
   "execution_count": 23,
   "id": "e8f4e877",
   "metadata": {},
   "outputs": [],
   "source": [
    "from equity_research.equity_research import EquityResearch"
   ]
  },
  {
   "cell_type": "code",
   "execution_count": 24,
   "id": "29546083",
   "metadata": {},
   "outputs": [],
   "source": [
    "eqr = EquityResearch()"
   ]
  },
  {
   "cell_type": "code",
   "execution_count": 66,
   "id": "c98161d0",
   "metadata": {},
   "outputs": [],
   "source": [
    "df = pd.read_csv(\"data/trimestral/2020/itr_cia_aberta_DMPL_ind_2020.csv\", sep=';', encoding='ISO-8859-1')"
   ]
  },
  {
   "cell_type": "code",
   "execution_count": 67,
   "id": "1e55046b",
   "metadata": {},
   "outputs": [],
   "source": [
    "cnpj = eqr.get_cnpj_from_ticker(\"BPAC11\")"
   ]
  },
  {
   "cell_type": "code",
   "execution_count": 68,
   "id": "e7d54e8a",
   "metadata": {},
   "outputs": [],
   "source": [
    "date_arg = date(2020,9,30)"
   ]
  },
  {
   "cell_type": "code",
   "execution_count": 69,
   "id": "b4c9b1e3",
   "metadata": {},
   "outputs": [],
   "source": [
    "df = df[df['CNPJ_CIA'] == cnpj]"
   ]
  },
  {
   "cell_type": "code",
   "execution_count": 70,
   "id": "920a65f9",
   "metadata": {},
   "outputs": [],
   "source": [
    "df = df[df['DT_REFER'] == str(date_arg)]"
   ]
  },
  {
   "cell_type": "code",
   "execution_count": 71,
   "id": "4cfaa3c6",
   "metadata": {},
   "outputs": [],
   "source": [
    "df = df[df['DT_INI_EXERC'] == df['DT_INI_EXERC'].max()]"
   ]
  },
  {
   "cell_type": "code",
   "execution_count": 73,
   "id": "15eaba4e",
   "metadata": {},
   "outputs": [],
   "source": [
    "df[df['COLUNA_DF'] == 'Patrimônio Líquido'].to_excel(\"test.xlsx\")"
   ]
  },
  {
   "cell_type": "code",
   "execution_count": null,
   "id": "07760a3d",
   "metadata": {},
   "outputs": [],
   "source": []
  }
 ],
 "metadata": {
  "kernelspec": {
   "display_name": "Python 3",
   "language": "python",
   "name": "python3"
  },
  "language_info": {
   "codemirror_mode": {
    "name": "ipython",
    "version": 3
   },
   "file_extension": ".py",
   "mimetype": "text/x-python",
   "name": "python",
   "nbconvert_exporter": "python",
   "pygments_lexer": "ipython3",
   "version": "3.8.8"
  }
 },
 "nbformat": 4,
 "nbformat_minor": 5
}
