{
 "cells": [
  {
   "cell_type": "code",
   "execution_count": 1,
   "id": "dd8e4ebd",
   "metadata": {},
   "outputs": [],
   "source": [
    "import os; os.chdir(\"..\")"
   ]
  },
  {
   "cell_type": "code",
   "execution_count": 2,
   "id": "e41eb4b9",
   "metadata": {},
   "outputs": [],
   "source": [
    "import pandas as pd"
   ]
  },
  {
   "cell_type": "code",
   "execution_count": 3,
   "id": "a50134e2",
   "metadata": {},
   "outputs": [],
   "source": [
    "from datetime import date"
   ]
  },
  {
   "cell_type": "code",
   "execution_count": 4,
   "id": "e8f4e877",
   "metadata": {},
   "outputs": [],
   "source": [
    "from equity_research.equity_research import EquityResearch"
   ]
  },
  {
   "cell_type": "code",
   "execution_count": 5,
   "id": "29546083",
   "metadata": {},
   "outputs": [],
   "source": [
    "eqr = EquityResearch()"
   ]
  },
  {
   "cell_type": "code",
   "execution_count": 6,
   "id": "42be4d75",
   "metadata": {},
   "outputs": [
    {
     "data": {
      "text/plain": [
       "76878230.0"
      ]
     },
     "execution_count": 6,
     "metadata": {},
     "output_type": "execute_result"
    }
   ],
   "source": [
    "eqr.get_book_value(\"SANB11\", date(2020,9,30))"
   ]
  },
  {
   "cell_type": "code",
   "execution_count": 7,
   "id": "c613014c",
   "metadata": {},
   "outputs": [],
   "source": [
    "all_tickers = eqr.get_all_tickers()"
   ]
  },
  {
   "cell_type": "code",
   "execution_count": 8,
   "id": "bae5f724",
   "metadata": {},
   "outputs": [],
   "source": [
    "test=pd.DataFrame()\n",
    "tickers=[]\n",
    "bvs=[]\n",
    "for ticker in all_tickers:\n",
    "    try:\n",
    "        bv = eqr.get_book_value(ticker, date(2020,9,30))\n",
    "        bvs.append(bv)\n",
    "        tickers.append(ticker)\n",
    "    except:\n",
    "        print(\"erro em: \"+ticker)\n",
    "        pass"
   ]
  },
  {
   "cell_type": "code",
   "execution_count": 9,
   "id": "a48945eb",
   "metadata": {},
   "outputs": [],
   "source": [
    "test['tickers'] = tickers\n",
    "test['patrimonio_liquido'] = bvs"
   ]
  },
  {
   "cell_type": "code",
   "execution_count": 10,
   "id": "a42ec85a",
   "metadata": {},
   "outputs": [],
   "source": [
    "test.to_excel(\"VALIDAR_PLs.xlsx\")"
   ]
  },
  {
   "cell_type": "code",
   "execution_count": null,
   "id": "fc871b4b",
   "metadata": {},
   "outputs": [],
   "source": []
  }
 ],
 "metadata": {
  "kernelspec": {
   "display_name": "Python 3",
   "language": "python",
   "name": "python3"
  },
  "language_info": {
   "codemirror_mode": {
    "name": "ipython",
    "version": 3
   },
   "file_extension": ".py",
   "mimetype": "text/x-python",
   "name": "python",
   "nbconvert_exporter": "python",
   "pygments_lexer": "ipython3",
   "version": "3.8.8"
  }
 },
 "nbformat": 4,
 "nbformat_minor": 5
}
