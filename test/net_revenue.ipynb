{
 "cells": [
  {
   "cell_type": "code",
   "execution_count": 6,
   "id": "dee013fd",
   "metadata": {},
   "outputs": [],
   "source": [
    "import os\n",
    "\n",
    "#os.chdir(\"..\")"
   ]
  },
  {
   "cell_type": "code",
   "execution_count": 7,
   "id": "0bc3b993",
   "metadata": {},
   "outputs": [],
   "source": [
    "from equity_research.equity_research import EquityResearch\n",
    "from datetime import date\n",
    "import pandas as pd\n",
    "from tqdm import tqdm"
   ]
  },
  {
   "cell_type": "code",
   "execution_count": 8,
   "id": "d0af87b1",
   "metadata": {},
   "outputs": [],
   "source": [
    "eqresearch = EquityResearch()"
   ]
  },
  {
   "cell_type": "code",
   "execution_count": 9,
   "id": "fa2a8daa",
   "metadata": {},
   "outputs": [],
   "source": [
    "all_tickers = eqresearch.get_all_tickers()"
   ]
  },
  {
   "cell_type": "code",
   "execution_count": 10,
   "id": "37a4f3d7",
   "metadata": {},
   "outputs": [
    {
     "data": {
      "text/plain": [
       "2288783.0"
      ]
     },
     "execution_count": 10,
     "metadata": {},
     "output_type": "execute_result"
    }
   ],
   "source": [
    "eqresearch.get_net_revenue(\"B3SA3\", date(2020,9,30))"
   ]
  },
  {
   "cell_type": "code",
   "execution_count": 6,
   "id": "bd19bbc8",
   "metadata": {},
   "outputs": [],
   "source": [
    "'''\n",
    "test = pd.DataFrame()\n",
    "net_revenues = []\n",
    "tickers = []\n",
    "for ticker in tqdm(all_tickers):\n",
    "    try:\n",
    "        net_revenues.append(eqresearch.get_net_revenue(ticker, date(2020,9,30)))\n",
    "        tickers.append(ticker)\n",
    "    except:\n",
    "        print(\"problema no \"+ticker)\n",
    "\n",
    "test['ticker'] = tickers\n",
    "test['net_revenues'] = net_revenues\n",
    "''';"
   ]
  },
  {
   "cell_type": "code",
   "execution_count": null,
   "id": "044916df",
   "metadata": {},
   "outputs": [],
   "source": []
  }
 ],
 "metadata": {
  "kernelspec": {
   "display_name": "Python 3",
   "language": "python",
   "name": "python3"
  },
  "language_info": {
   "codemirror_mode": {
    "name": "ipython",
    "version": 3
   },
   "file_extension": ".py",
   "mimetype": "text/x-python",
   "name": "python",
   "nbconvert_exporter": "python",
   "pygments_lexer": "ipython3",
   "version": "3.8.8"
  }
 },
 "nbformat": 4,
 "nbformat_minor": 5
}
