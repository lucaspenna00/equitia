{
 "cells": [
  {
   "cell_type": "code",
   "execution_count": 7,
   "id": "0bc3b993",
   "metadata": {},
   "outputs": [
    {
     "ename": "ImportError",
     "evalue": "attempted relative import with no known parent package",
     "output_type": "error",
     "traceback": [
      "\u001b[1;31m---------------------------------------------------------------------------\u001b[0m",
      "\u001b[1;31mImportError\u001b[0m                               Traceback (most recent call last)",
      "\u001b[1;32m<ipython-input-7-b87f255e1c11>\u001b[0m in \u001b[0;36m<module>\u001b[1;34m\u001b[0m\n\u001b[1;32m----> 1\u001b[1;33m \u001b[1;32mfrom\u001b[0m \u001b[1;33m.\u001b[0m \u001b[1;32mimport\u001b[0m \u001b[0mequity_research\u001b[0m\u001b[1;33m\u001b[0m\u001b[1;33m\u001b[0m\u001b[0m\n\u001b[0m\u001b[0;32m      2\u001b[0m \u001b[1;32mfrom\u001b[0m \u001b[0mdatetime\u001b[0m \u001b[1;32mimport\u001b[0m \u001b[0mdate\u001b[0m\u001b[1;33m\u001b[0m\u001b[1;33m\u001b[0m\u001b[0m\n\u001b[0;32m      3\u001b[0m \u001b[1;32mimport\u001b[0m \u001b[0mpandas\u001b[0m \u001b[1;32mas\u001b[0m \u001b[0mpd\u001b[0m\u001b[1;33m\u001b[0m\u001b[1;33m\u001b[0m\u001b[0m\n\u001b[0;32m      4\u001b[0m \u001b[1;32mfrom\u001b[0m \u001b[0mtqdm\u001b[0m \u001b[1;32mimport\u001b[0m \u001b[0mtqdm\u001b[0m\u001b[1;33m\u001b[0m\u001b[1;33m\u001b[0m\u001b[0m\n",
      "\u001b[1;31mImportError\u001b[0m: attempted relative import with no known parent package"
     ]
    }
   ],
   "source": [
    "from . import equity_research\n",
    "from datetime import date\n",
    "import pandas as pd\n",
    "from tqdm import tqdm"
   ]
  },
  {
   "cell_type": "code",
   "execution_count": 2,
   "id": "d0af87b1",
   "metadata": {},
   "outputs": [],
   "source": [
    "eqresearch = EquityResearch()"
   ]
  },
  {
   "cell_type": "code",
   "execution_count": 3,
   "id": "fa2a8daa",
   "metadata": {},
   "outputs": [],
   "source": [
    "all_tickers = eqresearch.get_all_tickers()"
   ]
  },
  {
   "cell_type": "code",
   "execution_count": 4,
   "id": "ecad2433",
   "metadata": {},
   "outputs": [],
   "source": [
    "test = pd.DataFrame()"
   ]
  },
  {
   "cell_type": "code",
   "execution_count": 6,
   "id": "bd19bbc8",
   "metadata": {},
   "outputs": [
    {
     "name": "stderr",
     "output_type": "stream",
     "text": [
      "100%|██████████████████████████████████████████████████████████████████████████████████| 84/84 [02:46<00:00,  1.98s/it]\n"
     ]
    }
   ],
   "source": [
    "net_revenues = []\n",
    "tickers = []\n",
    "for ticker in tqdm(all_tickers):\n",
    "    try:\n",
    "        net_revenues.append(eqresearch.get_net_revenue(ticker, date(2020,9,30)))\n",
    "        tickers.append(ticker)\n",
    "    except:\n",
    "        print(\"problema no \"+ticker)"
   ]
  },
  {
   "cell_type": "code",
   "execution_count": 7,
   "id": "9e52a623",
   "metadata": {},
   "outputs": [],
   "source": [
    "test['ticker'] = tickers\n",
    "test['net_revenues'] = net_revenues"
   ]
  },
  {
   "cell_type": "code",
   "execution_count": 52,
   "id": "3b3b3167",
   "metadata": {},
   "outputs": [],
   "source": [
    "test.to_excel(\"mineiro_receita_liquida_3T20.xlsx\")"
   ]
  },
  {
   "cell_type": "code",
   "execution_count": null,
   "id": "3da270c5",
   "metadata": {},
   "outputs": [],
   "source": []
  }
 ],
 "metadata": {
  "kernelspec": {
   "display_name": "Python 3",
   "language": "python",
   "name": "python3"
  },
  "language_info": {
   "codemirror_mode": {
    "name": "ipython",
    "version": 3
   },
   "file_extension": ".py",
   "mimetype": "text/x-python",
   "name": "python",
   "nbconvert_exporter": "python",
   "pygments_lexer": "ipython3",
   "version": "3.8.8"
  }
 },
 "nbformat": 4,
 "nbformat_minor": 5
}
