{
 "cells": [
  {
   "cell_type": "code",
   "execution_count": 1,
   "id": "c0675bb0",
   "metadata": {},
   "outputs": [],
   "source": [
    "from download import download_data"
   ]
  },
  {
   "cell_type": "code",
   "execution_count": 2,
   "id": "3f2cf981",
   "metadata": {},
   "outputs": [
    {
     "name": "stderr",
     "output_type": "stream",
     "text": [
      "100%|██████████████████████████████████████████████████████████████████████████████████| 10/10 [01:27<00:00,  8.71s/it]\n"
     ]
    }
   ],
   "source": [
    "download_data.download_anual_data_from_cvm(2011, 2020)"
   ]
  },
  {
   "cell_type": "code",
   "execution_count": 3,
   "id": "8ba68002",
   "metadata": {},
   "outputs": [
    {
     "name": "stderr",
     "output_type": "stream",
     "text": [
      "100%|██████████████████████████████████████████████████████████████████████████████████| 10/10 [02:38<00:00, 15.84s/it]\n"
     ]
    }
   ],
   "source": [
    "download_data.download_trimestral_data_from_cvm(2011, 2020)"
   ]
  },
  {
   "cell_type": "code",
   "execution_count": null,
   "id": "b70ca35b",
   "metadata": {},
   "outputs": [],
   "source": []
  }
 ],
 "metadata": {
  "kernelspec": {
   "display_name": "Python 3",
   "language": "python",
   "name": "python3"
  },
  "language_info": {
   "codemirror_mode": {
    "name": "ipython",
    "version": 3
   },
   "file_extension": ".py",
   "mimetype": "text/x-python",
   "name": "python",
   "nbconvert_exporter": "python",
   "pygments_lexer": "ipython3",
   "version": "3.8.8"
  }
 },
 "nbformat": 4,
 "nbformat_minor": 5
}
